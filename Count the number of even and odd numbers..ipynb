{
 "cells": [
  {
   "cell_type": "markdown",
   "metadata": {},
   "source": [
    "# Count the number of even and odd numbers."
   ]
  },
  {
   "cell_type": "code",
   "execution_count": 29,
   "metadata": {},
   "outputs": [
    {
     "name": "stdout",
     "output_type": "stream",
     "text": [
      "odd-:  0\n",
      "even-:  0\n",
      "odd-:  1\n",
      "even-:  1\n",
      "odd-:  2\n",
      "even-:  2\n",
      "odd-:  3\n",
      "even-:  3\n",
      "odd-:  4\n",
      "even-:  4\n",
      "odd-:  5\n",
      "Total Even number 5\n",
      "Total Odd number 6\n"
     ]
    }
   ],
   "source": [
    "x = [1,2,3,4,5,6,7,8,9,10,11]\n",
    "even_count = 0\n",
    "odd_count = 0\n",
    "for i in x:\n",
    "    if i%2==0 :\n",
    "        print(\"even-: \",even_count)\n",
    "        even_count = even_count+1    \n",
    "    else:\n",
    "        print(\"odd-: \",odd_count)\n",
    "        odd_count = odd_count+1\n",
    "        \n",
    "print(\"Total Even number\",even_count)\n",
    "print(\"Total Odd number\",odd_count)"
   ]
  },
  {
   "cell_type": "code",
   "execution_count": null,
   "metadata": {},
   "outputs": [],
   "source": []
  }
 ],
 "metadata": {
  "kernelspec": {
   "display_name": "Python 3",
   "language": "python",
   "name": "python3"
  },
  "language_info": {
   "codemirror_mode": {
    "name": "ipython",
    "version": 3
   },
   "file_extension": ".py",
   "mimetype": "text/x-python",
   "name": "python",
   "nbconvert_exporter": "python",
   "pygments_lexer": "ipython3",
   "version": "3.8.5"
  }
 },
 "nbformat": 4,
 "nbformat_minor": 4
}
